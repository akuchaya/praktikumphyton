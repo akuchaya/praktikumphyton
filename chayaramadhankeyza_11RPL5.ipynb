{
  "nbformat": 4,
  "nbformat_minor": 0,
  "metadata": {
    "colab": {
      "provenance": [],
      "authorship_tag": "ABX9TyOiuLTHh3XnpM49orZz0SqQ",
      "include_colab_link": true
    },
    "kernelspec": {
      "name": "python3",
      "display_name": "Python 3"
    },
    "language_info": {
      "name": "python"
    }
  },
  "cells": [
    {
      "cell_type": "markdown",
      "metadata": {
        "id": "view-in-github",
        "colab_type": "text"
      },
      "source": [
        "<a href=\"https://colab.research.google.com/github/akuchaya/praktikumphyton/blob/main/chayaramadhankeyza_11RPL5.ipynb\" target=\"_parent\"><img src=\"https://colab.research.google.com/assets/colab-badge.svg\" alt=\"Open In Colab\"/></a>"
      ]
    },
    {
      "cell_type": "code",
      "execution_count": null,
      "metadata": {
        "colab": {
          "base_uri": "https://localhost:8080/"
        },
        "id": "vm6ltxZyRE-M",
        "outputId": "9cb64c3e-4b62-479a-b039-9e6a9583e0a5"
      },
      "outputs": [
        {
          "output_type": "stream",
          "name": "stdout",
          "text": [
            "=== Variabel dan Tipe Data ===\n",
            "Nilai a: 10 | Tipe: <class 'int'>\n",
            "Nilai b: 3.14 | Tipe: <class 'float'>\n",
            "Nilai c: Halo! | Tipe: <class 'str'>\n",
            "Nilai d: [1, 2, 3] | Tipe: <class 'list'>\n",
            "\n",
            "=== List dan Manipulasi ===\n",
            "Daftar belanjaan:\n",
            "- beras\n",
            "- telur\n",
            "- minyak\n",
            "- gula\n",
            "- kopi\n",
            "\n",
            "=== Dictionary ===\n",
            "Daftar harga belanjaan:\n",
            "beras: Rp12000\n",
            "minyak: Rp17000\n",
            "telur: Rp24000\n",
            "gula: Rp15000\n",
            "kopi: Rp20000\n",
            "Total belanja = Rp 88000\n",
            "\n",
            "=== Fungsi ===\n",
            "Luas = 50, Keliling = 30\n",
            "\n",
            "=== Percabangan If Else ===\n",
            "Masukan usia anda untuk mengidentifikasi hidup anda: 6\n",
            "Kategori: Anak-anak nonton spongebob\n"
          ]
        }
      ],
      "source": [
        "# 1. Variabel dan Tipe Data\n",
        "print(\"=== Variabel dan Tipe Data ===\")\n",
        "a = 10          # integer\n",
        "b = 3.14        # float\n",
        "c = \"Halo!\"     # string\n",
        "d = [1, 2, 3]   # list\n",
        "\n",
        "print(\"Nilai a:\", a, \"| Tipe:\", type(a))\n",
        "print(\"Nilai b:\", b, \"| Tipe:\", type(b))\n",
        "print(\"Nilai c:\", c, \"| Tipe:\", type(c))\n",
        "print(\"Nilai d:\", d, \"| Tipe:\", type(d))\n",
        "\n",
        "\n",
        "# 2. List dan Manipulasi\n",
        "print(\"\\n=== List dan Manipulasi ===\")\n",
        "belanja = [\"beras\", \"telur\", \"minyak\"]\n",
        "belanja.append(\"gula\")\n",
        "belanja.append(\"kopi\")\n",
        "\n",
        "print(\"Daftar belanjaan:\")\n",
        "for item in belanja:\n",
        "    print(\"-\", item)\n",
        "\n",
        "\n",
        "# 3. Dictionary\n",
        "print(\"\\n=== Dictionary ===\")\n",
        "harga_belanjaan = {\n",
        "    \"beras\": 12000,\n",
        "    \"minyak\": 17000,\n",
        "    \"telur\": 24000,\n",
        "    \"gula\": 15000,\n",
        "    \"kopi\": 20000\n",
        "}\n",
        "\n",
        "# Hitung total harga\n",
        "total = sum(harga_belanjaan.values())\n",
        "print(\"Daftar harga belanjaan:\")\n",
        "for barang, harga in harga_belanjaan.items():\n",
        "    print(f\"{barang}: Rp{harga}\")\n",
        "\n",
        "print(\"Total belanja = Rp\", total)\n",
        "\n",
        "\n",
        "# 4. Fungsi\n",
        "print(\"\\n=== Fungsi ===\")\n",
        "def persegi_panjang(panjang, lebar):\n",
        "    luas = panjang * lebar\n",
        "    keliling = 2 * (panjang + lebar)\n",
        "    return luas, keliling\n",
        "\n",
        "luas, keliling = persegi_panjang(10, 5)\n",
        "print(f\"Luas = {luas}, Keliling = {keliling}\")\n",
        "\n",
        "\n",
        "\n",
        "# 5. Percabangan If Else\n",
        "print(\"\\n=== Percabangan If Else ===\")\n",
        "usia = int(input(\"Masukan usia anda untuk mengidentifikasi hidup anda: \"))\n",
        "\n",
        "if 0 <= usia <= 13:\n",
        "    print(\"Kategori: Anak-anak nonton spongebob\")\n",
        "elif 14 <= usia <= 24:\n",
        "    print(\"Kategori: Remaja kecanduan ff\")\n",
        "elif 25 <= usia <= 49:\n",
        "    print(\"Kategori: Dewasa AntiMainstream \")\n",
        "elif usia >= 50:\n",
        "    print(\"Kategori: Lansia yang duduk tiap hari di teras rumah \")\n",
        "else:\n",
        "    print(\"Usia tidak teridentifikasi \")\n"
      ]
    }
  ]
}